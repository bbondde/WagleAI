{
 "cells": [
  {
   "cell_type": "code",
   "execution_count": 2,
   "metadata": {},
   "outputs": [],
   "source": [
    "import os\n",
    "import random\n",
    "import shutil"
   ]
  },
  {
   "cell_type": "code",
   "execution_count": 5,
   "metadata": {},
   "outputs": [],
   "source": [
    "train_path = \"./data/train\"\n",
    "valid_path = \"./data/valid\"\n",
    "test_path = \"./data/test\"\n",
    "\n",
    "if not os.path.isdir(train_path):\n",
    "    os.mkdir(train_path)\n",
    "if not os.path.isdir(valid_path):\n",
    "    os.mkdir(valid_path)\n",
    "    \n",
    "image_path = \"/images\"\n",
    "annot_path = \"/annots\"\n",
    "\n",
    "if not os.path.isdir(train_path+image_path):\n",
    "    os.mkdir(train_path + image_path)\n",
    "if not os.path.isdir(train_path+annot_path):\n",
    "    os.mkdir(train_path + annot_path)\n",
    "if not os.path.isdir(valid_path + image_path):\n",
    "    os.mkdir(valid_path + image_path)\n",
    "if not os.path.isdir(valid_path + annot_path):\n",
    "    os.mkdir(valid_path + annot_path)"
   ]
  },
  {
   "cell_type": "code",
   "execution_count": 7,
   "metadata": {},
   "outputs": [
    {
     "name": "stdout",
     "output_type": "stream",
     "text": [
      "93094\n"
     ]
    }
   ],
   "source": [
    "folder_path = \"./data/temp_pedestrian\"\n",
    "pedestrian_folder_list = os.listdir(folder_path)\n",
    "\n",
    "pedestrian_folder_list.sort()\n",
    "\n",
    "all_file_list = []\n",
    "\n",
    "for ped_fol in pedestrian_folder_list:\n",
    "    Bbox_data_path = folder_path + \"/\" + ped_fol\n",
    "    xml_file_folder_list = os.listdir(Bbox_data_path)\n",
    "    xml_file_folder_list.sort()\n",
    "    \n",
    "    for jpg_fol in xml_file_folder_list:\n",
    "        jpg_file_path = Bbox_data_path + \"/\" + jpg_fol\n",
    "        file_list = [jpg_file_path + \"/\" + a[:-4] for a in os.listdir(jpg_file_path) if a.endswith(r\".jpg\") or a.endswith(r\".png\")]\n",
    "        all_file_list.extend(file_list)\n",
    "\n",
    "print(len(all_file_list))"
   ]
  },
  {
   "cell_type": "code",
   "execution_count": 8,
   "metadata": {
    "scrolled": true
   },
   "outputs": [],
   "source": [
    "random.seed(100)\n",
    "random.shuffle(all_file_list)\n",
    "pivot = int(len(all_file_list) * 0.7)\n",
    "train_list = all_file_list[:pivot]\n",
    "test_list = all_file_list[pivot:]"
   ]
  },
  {
   "cell_type": "code",
   "execution_count": 9,
   "metadata": {},
   "outputs": [],
   "source": [
    "for file in train_list:\n",
    "    xml_file_name = file + \".xml\"\n",
    "    img_file_name = file + \".jpg\"\n",
    "    \n",
    "    if os.path.isfile(xml_file_name) and os.path.isfile(img_file_name):\n",
    "        name = file.split(\"/\")\n",
    "\n",
    "        shutil.move(xml_file_name, train_path + annot_path + \"/\" + ''.join(name[-1:]) + \".xml\")\n",
    "        shutil.move(img_file_name, train_path + image_path + \"/\" + ''.join(name[-1:]) + \".jpg\")\n",
    "    \n",
    "for file in test_list:\n",
    "    xml_file_name = file + \".xml\"\n",
    "    img_file_name = file + \".jpg\"\n",
    "    \n",
    "    if os.path.isfile(xml_file_name) and os.path.isfile(img_file_name):\n",
    "        name = file.split(\"/\")\n",
    "    \n",
    "        shutil.move(xml_file_name, valid_path + annot_path + \"/\" + ''.join(name[-1:]) + \".xml\")\n",
    "        shutil.move(img_file_name, valid_path + image_path + \"/\" + ''.join(name[-1:]) + \".jpg\")"
   ]
  },
  {
   "cell_type": "code",
   "execution_count": null,
   "metadata": {},
   "outputs": [],
   "source": []
  }
 ],
 "metadata": {
  "kernelspec": {
   "display_name": "Python 3",
   "language": "python",
   "name": "python3"
  },
  "language_info": {
   "codemirror_mode": {
    "name": "ipython",
    "version": 3
   },
   "file_extension": ".py",
   "mimetype": "text/x-python",
   "name": "python",
   "nbconvert_exporter": "python",
   "pygments_lexer": "ipython3",
   "version": "3.7.7"
  }
 },
 "nbformat": 4,
 "nbformat_minor": 4
}
